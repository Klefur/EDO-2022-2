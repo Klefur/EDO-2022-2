{
 "cells": [
  {
   "cell_type": "code",
   "execution_count": 1,
   "id": "89f7c8b6",
   "metadata": {},
   "outputs": [],
   "source": [
    "from matplotlib import pyplot as plt\n",
    "import numpy as np\n",
    "\n",
    "def euler(f, x0, x1, y0, h):\n",
    "    n = int((x1 - x0) / h)\n",
    "    x = np.linspace(x0, x1, n)\n",
    "    y = np.zeros(n)\n",
    "    y[0] = y0\n",
    "\n",
    "    for i in range(0, n - 1):\n",
    "        y[i + 1] = y[i] + h * f(x[i], y[i])\n",
    "\n",
    "    return (x, y)"
   ]
  },
  {
   "cell_type": "markdown",
   "id": "32e7a9ad",
   "metadata": {},
   "source": [
    "## Métodos numéricos\n",
    "\n",
    "Cuando trabajamos con métodos numéricos en la resolución de ecuaciones diferenciales, el objetivo es encontrar un conjunto de valores que se aproximen una solución particular de la ecuación diferencial propuesta.\n",
    "\n",
    "Existen diferentes algoritmos que permiten implementar estos métodos numéricos, algunos más certeros que otros, y por tanto es posible (en ocasiones) estimar el error y decidir qué método emplear en cada etapa de la busqueda de una buena aproximación de la solución.\n",
    "\n",
    "Los métodos que se abordarán en esta parte del curso, corresponden a métodos para aproximar soluciones al problema de valores iniciales:\n",
    "\n",
    "$$ y'=f(x,y) \\quad ; \\quad y(x_0)=y_0 $$\n"
   ]
  },
  {
   "cell_type": "markdown",
   "id": "8a940c68",
   "metadata": {},
   "source": [
    "## Método de Euler\n",
    "\n",
    "Para el problema \n",
    "$$ y'=f(x,y) \\quad ; \\quad y(x_0)=y_0 $$\n",
    "el algoritmo asociado al método de Euler está dado por:\n",
    "\n",
    "Para $i=0,1, ... , n-1$ realizar <br>\n",
    "*    $ x_i = x_0+ih $ <br>\n",
    "*    $y_{i+1}= y_i +h f(x_i , y_i) $ <br>\n",
    "    \n",
    "Fin"
   ]
  },
  {
   "cell_type": "markdown",
   "id": "6b40993d",
   "metadata": {},
   "source": [
    "## Ejemplo 1\n",
    "\n",
    "Considere el problema de valores iniciales \n",
    "$$ y^2 dy - \\sqrt{3} x dx = 0 \\quad ; \\quad y(1)=2,$$\n",
    "* a) Utilice el método de Euler para encontrar una aproximación de $y(4)$ para el problema de valores iniciales utilizando $h=0,1$.\n",
    "* b) La solución al PVI está dada por $y=\\sqrt[3]{\\frac{3\\sqrt{3}}{2}x^2+8-\\frac{3\\sqrt{2}}{2}}$ (verifíquela en otra ocasión). En un mismo gráfico trace la solución aproximada y la solución explícita al PVI.\n",
    "\n",
    "* c) Calcule el error absoluto al problema.\n",
    "* d) Con los datos recabados concluya si es una buena aproximación."
   ]
  },
  {
   "cell_type": "code",
   "execution_count": 2,
   "id": "14b32b67",
   "metadata": {},
   "outputs": [
    {
     "name": "stdout",
     "output_type": "stream",
     "text": [
      "0.15809725539999464\n"
     ]
    },
    {
     "data": {
      "image/png": "[encoded data removed]",
      "text/plain": [
       "<Figure size 432x288 with 1 Axes>"
      ]
     },
     "metadata": {
      "needs_background": "light"
     },
     "output_type": "display_data"
    }
   ],
   "source": [
    "f = lambda x, y: (np.sqrt(3) * x) / y ** 2\n",
    "\n",
    "(x, y) = euler(f, 1, 4, 2, .1)\n",
    "\n",
    "x1 = np.linspace(1, 4, 30)\n",
    "y1 = np.cbrt((3 * np.sqrt(2) * x ** 2) / 2 + 8 - 3 * np.sqrt(2) / 2) \n",
    "\n",
    "plt.plot(x, y)\n",
    "plt.plot(x1, y1)\n",
    "print(np.abs(y[-1] - y1[-1]))\n"
   ]
  },
  {
   "cell_type": "markdown",
   "id": "84981bd7",
   "metadata": {},
   "source": [
    "## Ejemplo 2\n",
    "\n",
    "* a) Defina una función en Python que permita encontrar una aproximación de $y(x_n)$ para el problema de valores iniciales general\n",
    "\n",
    "$$ y'(x)=f(x,y) \\quad , \\quad y(x_0)=y_0$$\n",
    "\n",
    "dados los datos de entrada $f(x,y), x_0, x_n, y_0, n$ (o $h$ en su defecto)\n",
    "\n",
    "* b) Utilice la función anterior para encontrar una aproximación de $y(0,5)$ al PVI\n",
    "\n",
    "$$ y'(x)=2xy^2 \\quad , \\quad y(0)=1 $$ \n",
    "para ello utilice $h=0,1$ y $h=0,01$"
   ]
  },
  {
   "cell_type": "code",
   "execution_count": 16,
   "id": "8b6142a4",
   "metadata": {},
   "outputs": [
    {
     "name": "stdout",
     "output_type": "stream",
     "text": [
      "44.0\n"
     ]
    }
   ],
   "source": []
  },
  {
   "cell_type": "markdown",
   "id": "a81cfc34",
   "metadata": {},
   "source": [
    "En adición, si se desea utilizar las aproximaciones para confeccionar un gráfico, es posible utilizar un diccionario."
   ]
  },
  {
   "cell_type": "code",
   "execution_count": null,
   "id": "ef452e6a",
   "metadata": {},
   "outputs": [],
   "source": []
  },
  {
   "cell_type": "markdown",
   "id": "a04e0648",
   "metadata": {},
   "source": [
    "## Ejercicios adicionales\n",
    "\n",
    "* a) Considere el PVI\n",
    "$$ y'(t) = \\frac{y}{t} - \\left( \\frac{y}{t} \\right)^2 \\quad ; \\quad y(1)=1 $$\n",
    "encuentre una aproximación de $y(5)$ vía método de Euler, considerando\n",
    "    + $h=1$ \n",
    "    + $h=0,5$\n",
    "    \n",
    "* b) Verifique que $y(t) = \\dfrac{1}{1+\\ln|t|}$ es solución al PVI propuesto.\n",
    "* c) Grafique las aproximaciones de la solución y la solución explícita al problema en un mismo gráfico. Personalice el gráfico y las curvas a su elección. Intuitivamente ¿es una buena aproximación al problema?\n",
    "* d) Calcule el error absoluto.\n",
    "* e) Elabore un algoritmo que permita calcular el error global de sus aproximaciones."
   ]
  },
  {
   "cell_type": "code",
   "execution_count": null,
   "id": "1db68466",
   "metadata": {},
   "outputs": [],
   "source": []
  }
 ],
 "metadata": {
  "kernelspec": {
   "display_name": "Python 3.10.5 64-bit",
   "language": "python",
   "name": "python3"
  },
  "language_info": {
   "codemirror_mode": {
    "name": "ipython",
    "version": 3
   },
   "file_extension": ".py",
   "mimetype": "text/x-python",
   "name": "python",
   "nbconvert_exporter": "python",
   "pygments_lexer": "ipython3",
   "version": "3.10.5"
  },
  "vscode": {
   "interpreter": {
    "hash": "162805d861223990fbee0972ed12f9be628b31f8b6842b220d207744051d74d5"
   }
  }
 },
 "nbformat": 4,
 "nbformat_minor": 5
}
