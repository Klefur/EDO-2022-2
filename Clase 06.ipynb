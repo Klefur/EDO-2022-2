{
 "cells": [
  {
   "cell_type": "code",
   "execution_count": 10,
   "metadata": {},
   "outputs": [],
   "source": [
    "from matplotlib import pyplot as plt\n",
    "import numpy as np\n",
    "\n",
    "def euler(f, x0, x1, y0, h):\n",
    "    n = int((x1 - x0) / h)\n",
    "    x = np.linspace(x0, x1, n + 1)\n",
    "    y = np.zeros(n + 1)\n",
    "    y[0] = y0\n",
    "\n",
    "    for i in range(0, n):\n",
    "        y[i + 1] = y[i] + h * f(x[i], y[i])\n",
    "\n",
    "    return (x, y)\n",
    "\n",
    "def rk2(f, x0, x1, y0, h):\n",
    "    n = int((x1 - x0) / h)\n",
    "    x = np.linspace(x0, x1, n + 1)\n",
    "    y = np.zeros(n + 1)\n",
    "    y[0] = y0\n",
    "\n",
    "    for i in range(0, n):\n",
    "        y[i + 1] = y[i] + (h / 2) * (f(x[i], y[i]) + f(x[i + 1], (y[i] + h * f(x[i], y[i]))))\n",
    "    \n",
    "    return (x, y)\n",
    "\n",
    "def rk4(f, x0, x1, y0, h):\n",
    "    n = int((x1 - x0) / h)\n",
    "    x = np.linspace(x0, x1, n + 1)\n",
    "    y = np.zeros(n + 1)\n",
    "    y[0] = y0\n",
    "\n",
    "    K1 = lambda x, y: f(x, y)\n",
    "    K2_3 = lambda x, y, h, k: f(x + h / 2,y + k * h / 2)\n",
    "    K4 = lambda x, y, h, k: f(x + h,y + k * h)\n",
    "\n",
    "    for i in range(0, n):\n",
    "        cons1 = K1(x[i], y[i])\n",
    "        cons2 = K2_3(x[i], y[i], h, cons1)\n",
    "        cons3 = K2_3(x[i], y[i], h, cons2)\n",
    "        cons4 = K4(x[i], y[i], h, cons3)\n",
    "        y[i + 1] = y[i] + (h / 6) * (cons1 + 2 * cons2 + 2 * cons3 + cons4)\n",
    "    \n",
    "    return (x, y)"
   ]
  },
  {
   "cell_type": "markdown",
   "metadata": {},
   "source": [
    "## Método de Euler Mejorado o método de Heun o RK2\n",
    "\n",
    "Corresponde a modificación del método de Euler y se consigue integrando la ecuación diferencial\n",
    "$y'=f(x,y)$ entre $x_i$ y $x_{i+1}$:\n",
    "\n",
    "$$  \\int_{x_i}^{x_{i+1}} y'(x) dx = \\int_{x_i}^{x_{i+1}} f(x,y(x)) dx $$\n",
    "\n",
    "donde la integral de la izquierda se puede integrar directamente y la de la derecha aproximar mediante la regla del trapecio\n",
    "\n",
    "$$ y(x_{i+1})-y(x_{i}) = \\frac{h}{2} \\left[ f(x_i , y(x_i)) + f(x_{i+1}, y(x_{i+1})) \\right] $$\n",
    "\n",
    "Despejando \n",
    "\n",
    "$$ y(x_{i+1}) = y(x_{i})+\\frac{h}{2} \\left[ f(x_i , y(x_i)) + f(x_{i+1}, y(x_{i+1})) \\right] $$\n",
    "\n",
    "es decir,\n",
    "\n",
    "$$ y_{i+1} = y_i+\\frac{h}{2} \\left[ f(x_i , y_i) + f(x_{i+1}, y_i +h f(x_i,y_i)) \\right] $$\n",
    "\n"
   ]
  },
  {
   "cell_type": "markdown",
   "metadata": {},
   "source": [
    "## Algoritmo\n",
    "\n",
    "Para el problema \n",
    "$$ y'=f(x,y) \\quad ; \\quad y(x_0)=y_0 $$\n",
    "\n",
    "el algoritmo asociado al método de Euler está dado por:\n",
    "    \n",
    "Para $i=0,1, ... , n-1$ realizar <br>\n",
    "*    $ x_i = x_0+ih $ <br>\n",
    "*    $y_{i+1}^*= y_i +h f(x_i , y_i) $ <br>\n",
    "*    $y_{i+1} = y_i + \\dfrac{h}{2} \\left[ f(x_i , y_i) + f(x_{i+1}, y_{i+1}^*) \\right] $ <br>\n",
    "\n",
    "Fin"
   ]
  },
  {
   "cell_type": "markdown",
   "metadata": {},
   "source": [
    "## Ejercicio:\n",
    "\n",
    "* a)  Elabore una función en Python que permita encontrar una aproximación de $y(x_n)$ utilizando el método de Euler mejorado, para el problema de valores iniciales general\n",
    "\n",
    "$$ y'(x)=f(x,y) \\quad , \\quad y(x_0)=y_0$$\n",
    "\n",
    "dados los datos de entrada $f(x,y), x_0, x_n, y_0, n$ (o $h$ en su defecto)\n",
    "\n",
    "* b) Utilice el método de Euler mejorado para el problema de valores iniciales:\n",
    "\n",
    "$$ y' = 0,2xy \\quad ; \\quad y(0) = 1$$\n",
    "\n",
    "en el intervalo $[0, 4]$ usando h = 1, para aproximar $y(4)$.\n",
    "\n",
    "* c) La solución explícita al PVI está dada por $y=e^{0,1x^2}$ (verifíquelo en otra ocasión). En un mismo gráfico grafique la solución real, junto con las aproximaciones encontradas con este método. A partir de los resultados del gráfico, determine si la aproximación encontrada es una buena aproximación. \n",
    "\n",
    "* d) Calcule el error cometido y compruebe si la respuesta dada en el item anterior es aceptable."
   ]
  },
  {
   "cell_type": "code",
   "execution_count": 11,
   "metadata": {},
   "outputs": [
    {
     "name": "stdout",
     "output_type": "stream",
     "text": [
      "4.574371660220052\n",
      "4.948911042919909\n",
      "4.953031556798462\n",
      "4.953032424395115\n"
     ]
    },
    {
     "data": {
      "image/png": "[encoded data removed]",
      "text/plain": [
       "<Figure size 432x288 with 1 Axes>"
      ]
     },
     "metadata": {
      "needs_background": "light"
     },
     "output_type": "display_data"
    }
   ],
   "source": [
    "f = lambda x, y: 0.2 * x * y\n",
    "(x, y) = rk2(f, 0, 4, 1, .1)\n",
    "plt.plot(x, y)\n",
    "\n",
    "xs = np.linspace(0, 4, 5)\n",
    "f2 = lambda x: np.exp(0.1 * x ** 2)\n",
    "ys = [f2(i) for i in xs]\n",
    "\n",
    "(x4, y4) = rk4(f, 0, 4, 1, .1)\n",
    "plt.plot(x4, y4)\n",
    "\n",
    "(x5, y5) = euler(f, 0, 4, 1, .1)\n",
    "plt.plot(x5, y5)\n",
    "\n",
    "plt.plot(xs, ys)\n",
    "\n",
    "print(y5[-1])\n",
    "print(y[-1])\n",
    "print(y4[-1])\n",
    "print(ys[-1])"
   ]
  },
  {
   "cell_type": "markdown",
   "metadata": {},
   "source": [
    "## Método de Runge Kutta de orden 4 (RK4)\n",
    "\n",
    "\n",
    "Para el problema \n",
    "$$ y'=f(x,y) \\quad ; \\quad y(x_0)=y_0 $$\n",
    "\n",
    "el algoritmo asociado al método RK4 está dado por:\n",
    "    \n",
    "Para $i=0,1, ... , n-1$ realizar <br>\n",
    "\n",
    "*    $ x_i = x_0+ih $ <br>\n",
    "\n",
    "*    $ K_1 = f(x_i,y_i) $ <br>\n",
    "\n",
    "*    $ K_2 = f\\left( x_i + \\dfrac{h}{2} , y_i + \\dfrac{h}{2} K_1 \\right) $ <br>\n",
    "\n",
    "*    $ K_3 = f\\left( x_i + \\dfrac{h}{2} , y_i + \\dfrac{h}{2} K_2 \\right) $ <br>\n",
    "\n",
    "*    $ K_4 = f\\left( x_i + h , y_i + h K_3 \\right) $ <br>\n",
    "\n",
    "*    $y_{i+1} = y_i + \\dfrac{h}{6} \\left[ K_1 + 2K_2 + 2K_3 + K_4 \\right] $ <br>\n",
    "\n",
    "Fin"
   ]
  },
  {
   "cell_type": "markdown",
   "metadata": {},
   "source": [
    "## Ejercicio:\n",
    "\n",
    "* a)  Elabore una función en Python que permita encontrar una aproximación de $y(x_n)$ utilizando el método de RK4 para el problema de valores iniciales general\n",
    "\n",
    "$$ y'(x)=f(x,y) \\quad , \\quad y(x_0)=y_0$$\n",
    "\n",
    "dados los datos de entrada $f(x,y), x_0, x_n, y_0, n$ (o $h$ en su defecto)\n",
    "\n",
    "* b) Utilice el método de Euler mejorado para el problema de valores iniciales:\n",
    "\n",
    "$$ y' = 0,2xy \\quad ; \\quad y(0) = 1$$\n",
    "\n",
    "en el intervalo $[0, 4]$ usando h = 1, para aproximar $y(4)$.\n",
    "\n",
    "* c) La solución explícita al PVI está dada por $y=e^{0,1x^2}$ (verifíquelo en otra ocasión). En un mismo gráfico grafique la solución real, junto con las aproximaciones encontradas con este método. A partir de los resultados del gráfico, determine si la aproximación encontrada es una buena aproximación. \n",
    "\n",
    "* d) Calcule el error cometido y compruebe si la respuesta dada en el item anterior es aceptable."
   ]
  },
  {
   "cell_type": "code",
   "execution_count": null,
   "metadata": {},
   "outputs": [],
   "source": []
  },
  {
   "cell_type": "markdown",
   "metadata": {},
   "source": [
    "## Ejercicios adicionales\n",
    "\n",
    "a) Utilice los métodos de Euler,  Euler mejorado y Runge Kutta para aproximar $y(0,5)$, donde $y(x)$ es la solución del PVI\n",
    "\n",
    "$$ y' = x\\sin y  \\quad ; \\quad y(0) = 1.$$\n",
    "\n",
    "Para ello utilice:\n",
    "    * $h = 0,25$ \n",
    "    * $h= 0,1 $\n",
    "    \n",
    "b) Encuentre la solución explícita al PVI.\n",
    "\n",
    "c) Grafique en un mismo plano, la solución explícita y cada una de las aproximaciones encontradas. Establezca a partir de éste, cuál de las tres aproximaciones es mejor.\n",
    "\n",
    "d) Identifique, a partir del gráfico, cuál de los tres métodos tiene un error global más grande.\n",
    "\n",
    "e) Calcule el error absoluto en cada método y concluya en base a estos resultados cuál es la mejor aproximación.\n",
    "\n",
    "f) Repita el proceso (a)-(e) con los PVI\n",
    "\n",
    "   * $ y' = 1+(x-y)^2 \\quad ; \\quad y(2)=1 $\n",
    "   * $ y' - \\dfrac{y}{x} = 1 \\quad ; \\quad y(1)=2 $"
   ]
  },
  {
   "cell_type": "code",
   "execution_count": null,
   "metadata": {},
   "outputs": [],
   "source": []
  }
 ],
 "metadata": {
  "kernelspec": {
   "display_name": "Python 3.10.5 64-bit",
   "language": "python",
   "name": "python3"
  },
  "language_info": {
   "codemirror_mode": {
    "name": "ipython",
    "version": 3
   },
   "file_extension": ".py",
   "mimetype": "text/x-python",
   "name": "python",
   "nbconvert_exporter": "python",
   "pygments_lexer": "ipython3",
   "version": "3.10.5"
  },
  "vscode": {
   "interpreter": {
    "hash": "162805d861223990fbee0972ed12f9be628b31f8b6842b220d207744051d74d5"
   }
  }
 },
 "nbformat": 4,
 "nbformat_minor": 4
}
