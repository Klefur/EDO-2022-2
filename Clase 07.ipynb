{
 "cells": [
  {
   "cell_type": "code",
   "execution_count": null,
   "metadata": {},
   "outputs": [],
   "source": [
    "import numpy as np\n",
    "import matplotlib.pyplot as plt"
   ]
  },
  {
   "cell_type": "markdown",
   "metadata": {},
   "source": [
    "# Método de bisección\n",
    "\n",
    "Este método de busqueda por bisección es utilizado para encontrar raíces de una\n",
    "función continua de variable real. La única condición es que la función cambie de\n",
    "signo en el intervalo en que buscamos. La existencia de la raíz de la función está\n",
    "garantizada de acuerdo al teorema de Bolzano:\n",
    "\n",
    "> <b>Teorema de Bolzano </b>: \n",
    "Si $f : [a, b] \\to \\mathbb{R}$, es una función continua en $[a, b]$ y $f(a)f(b) < 0$, entonces\n",
    "existe $x_0 \\in  [a, b]$ tal que $f(x_0) = 0$.\n",
    "\n",
    "El método consiste en bisecar el intervalo $[a, b]$, estudiar los signos de $f$ en los\n",
    "extremos de los nuevos intervalos de manera que podamos afirmar la existencia de\n",
    "una raíz en un intervalo más pequeño como consecuencia del teorema de Bolzano.\n",
    "\n",
    "## Algoritmo\n",
    "\n",
    "Datos de entrada: $a, b,$ función, tolerancia.\n",
    "\n",
    "calcular $x_0 =\\dfrac{a+b}{2}$\n",
    "\n",
    "Para $i = 0,1,2, ...$ \n",
    "\n",
    "* Si $f(a)f(x_i) < 0$, entonces $b = x_i$\n",
    "* Si $f(a)f(x_i) > 0$, entonces $a = x_i$\n",
    "* Si $f(a)f(x_i) = 0$, entonces $x_{i+1} = x_{i}$\n",
    "\n",
    "Hasta que $ |x_{i+1}-x_{i}|< tolerancia $"
   ]
  },
  {
   "cell_type": "markdown",
   "metadata": {},
   "source": [
    "# Ejemplo 1\n",
    "\n",
    "La función $f(x) = 10x^3-2x^2+1-e^{2x} $ tiene una raíz en el intervalo $[-0,5; 1]$. Estimar la raíz utilizando el método de la bisección."
   ]
  },
  {
   "cell_type": "code",
   "execution_count": null,
   "metadata": {},
   "outputs": [],
   "source": [
    "def metodo_biseccion(a,b,f,t):\n",
    "    while (np.abs(a-b)>=t):\n",
    "        xi=(a+b)/2\n",
    "        multi=f(a)*f(xi)\n",
    "        if multi<0:\n",
    "            b=xi\n",
    "        else:\n",
    "            if multi>0:\n",
    "                a=xi\n",
    "            else:\n",
    "                if multi==0:\n",
    "                    xi=a\n",
    "                    xi=b\n",
    "    return xi"
   ]
  },
  {
   "cell_type": "code",
   "execution_count": null,
   "metadata": {},
   "outputs": [],
   "source": []
  },
  {
   "cell_type": "markdown",
   "metadata": {},
   "source": [
    "## Ejemplo 2\n",
    "\n",
    "La ecuación $\\ln(2x) = \\dfrac{x}{2}$ tiene dos soluciones. Utilice el método de la bisección con un error máximo de $10^{-8}$ para estimar las soluciones de la ecuación. Justifique su razonamiento para aplicar el método:\n",
    "+ Formulación de la función a utilizar.\n",
    "+ Elección de intervalo.\n",
    "+ Elección de la tolerancia."
   ]
  },
  {
   "cell_type": "code",
   "execution_count": null,
   "metadata": {},
   "outputs": [],
   "source": []
  },
  {
   "cell_type": "code",
   "execution_count": null,
   "metadata": {},
   "outputs": [],
   "source": []
  },
  {
   "cell_type": "code",
   "execution_count": null,
   "metadata": {},
   "outputs": [],
   "source": []
  },
  {
   "cell_type": "markdown",
   "metadata": {},
   "source": [
    "# Ejemplo 3*\n",
    "\n",
    "Encuentre la solución(es) a la ecuación:\n",
    "$$\\dfrac{1}{1-x}=e^x$$\n",
    "en el intervalo $[-0.5,\\, 1]$ mediante el método de bisección, si es posible. En caso contrario, justifique."
   ]
  },
  {
   "cell_type": "code",
   "execution_count": null,
   "metadata": {},
   "outputs": [],
   "source": []
  },
  {
   "cell_type": "code",
   "execution_count": null,
   "metadata": {},
   "outputs": [],
   "source": []
  },
  {
   "cell_type": "markdown",
   "metadata": {},
   "source": [
    "# Ejemplo 4\n",
    "\n",
    "Encontrar utilizando el método de bisección una aproximación de $\\sqrt[3]{7}$."
   ]
  },
  {
   "cell_type": "code",
   "execution_count": null,
   "metadata": {},
   "outputs": [],
   "source": []
  },
  {
   "cell_type": "code",
   "execution_count": null,
   "metadata": {},
   "outputs": [],
   "source": []
  },
  {
   "cell_type": "code",
   "execution_count": null,
   "metadata": {},
   "outputs": [],
   "source": []
  },
  {
   "cell_type": "code",
   "execution_count": null,
   "metadata": {},
   "outputs": [],
   "source": []
  },
  {
   "cell_type": "markdown",
   "metadata": {},
   "source": [
    "# Newtwon Raphson\n",
    "\n",
    "Este método es uno de los más populares para encontrar los ceros de una función, pero\n",
    "requiere del conocimiento de su derivada. La regla principal del algoritmo consiste\n",
    "en que, dado un punto $x_k$ cercano a la raíz de $f$, se determina la recta tangente a $f$\n",
    "en $(x_k, f(x_k))$: <br>\n",
    "\n",
    "$$y = f(x_k) + f'(x_k)(x - x_k)$$\n",
    "\n",
    "Luego, se define la iteración siguiente $x_{k+1}$ como el punto de intersección entre esa\n",
    "recta y el eje $x$, es decir, $x_{k+1}$ se obtiene al despejar\n",
    "\n",
    "$$0 = f(x_k) + f(x_k)(x_{k+1} - x_k)$$\n",
    "\n",
    "esto es\n",
    "$$ x_{k+1} = x_k - \\dfrac{f(x_k)}{f'(x_k)}  $$ \n",
    "\n",
    "## Algoritmo\n",
    "\n",
    "Datos de entrada: $x_0, f , tolerancia$\n",
    "\n",
    "Para $k = 0, 1, 2, ... $\n",
    "\n",
    "* calcular $x_{k+1} = x_k - \\dfrac{f(x_k)}{f'(x_k)} $\n",
    "\n",
    "Hasta que $ | x_{k+1} - x_k | < tolerancia $\n",
    "\n",
    "# Ejemplo 5\n",
    "\n",
    "Encontrar una aproximación de las raíces de la función $f(x) = x^4-2$ cercana a $x_0=4$ con una tolerancia de $0,000001$. Graficar la curva asociada al gráfico de $f$ junto con sus iteraciones.\n"
   ]
  },
  {
   "cell_type": "code",
   "execution_count": null,
   "metadata": {},
   "outputs": [],
   "source": [
    "def f(x):\n",
    "    return x**4-2\n",
    "\n",
    "def df(x):\n",
    "    return 4*x**3\n",
    "\n",
    "X=[4]\n",
    "t=0.000001\n",
    "xk=X[-1]\n",
    "\n",
    "while True:\n",
    "    print(xk, f(xk))\n",
    "    xk= xk-(f(xk)/df(xk))\n",
    "    X.append(xk)\n",
    "    if np.abs(X[-1]-X[-2])<t:\n",
    "        break"
   ]
  },
  {
   "cell_type": "code",
   "execution_count": null,
   "metadata": {},
   "outputs": [],
   "source": [
    "X=np.array(X)\n",
    "x=np.linspace(1,4,100)\n",
    "\n",
    "plt.plot(x,f(x), color=(0.1,0.2,0.3), label='función')\n",
    "plt.plot(X,f(X), 'o', color=(0.9,0.8,0.1), label='iteraciones')\n",
    "plt.grid()\n",
    "plt.legend()\n",
    "plt.show()"
   ]
  },
  {
   "cell_type": "markdown",
   "metadata": {},
   "source": [
    "\n",
    "# Ejercicios\n",
    "\n",
    "* Encontrar una aproximación de el (los) punto(s) de intersección de las curvas $y=e^x$ e $y=x^2$, utilizando el método de Newton-Raphson.\n",
    "\n",
    "* Encontrar una aproximación de la raíz de la función $h(x) = e^x + 2$ cercana a $x_0 = 2$ con una tolerancia de $0,01.$\n",
    "\n",
    "* Encontrar una aproximación de $\\sqrt{3}$."
   ]
  },
  {
   "cell_type": "code",
   "execution_count": null,
   "metadata": {},
   "outputs": [],
   "source": []
  },
  {
   "cell_type": "code",
   "execution_count": null,
   "metadata": {},
   "outputs": [],
   "source": []
  },
  {
   "cell_type": "code",
   "execution_count": null,
   "metadata": {},
   "outputs": [],
   "source": []
  },
  {
   "cell_type": "code",
   "execution_count": null,
   "metadata": {},
   "outputs": [],
   "source": []
  },
  {
   "cell_type": "code",
   "execution_count": null,
   "metadata": {},
   "outputs": [],
   "source": []
  },
  {
   "cell_type": "code",
   "execution_count": null,
   "metadata": {},
   "outputs": [],
   "source": []
  }
 ],
 "metadata": {
  "kernelspec": {
   "display_name": "Python 3.10.5 64-bit",
   "language": "python",
   "name": "python3"
  },
  "language_info": {
   "codemirror_mode": {
    "name": "ipython",
    "version": 3
   },
   "file_extension": ".py",
   "mimetype": "text/x-python",
   "name": "python",
   "nbconvert_exporter": "python",
   "pygments_lexer": "ipython3",
   "version": "3.10.5"
  },
  "vscode": {
   "interpreter": {
    "hash": "162805d861223990fbee0972ed12f9be628b31f8b6842b220d207744051d74d5"
   }
  }
 },
 "nbformat": 4,
 "nbformat_minor": 4
}
