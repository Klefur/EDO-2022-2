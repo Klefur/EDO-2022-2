{
  "metadata": {
    "kernelspec": {
      "name": "python",
      "display_name": "Python (Pyodide)",
      "language": "python"
    },
    "language_info": {
      "codemirror_mode": {
        "name": "python",
        "version": 3
      },
      "file_extension": ".py",
      "mimetype": "text/x-python",
      "name": "python",
      "nbconvert_exporter": "python",
      "pygments_lexer": "ipython3",
      "version": "3.8"
    }
  },
  "nbformat_minor": 4,
  "nbformat": 4,
  "cells": [
    {
      "cell_type": "code",
      "source": "import matplotlib.pyplot as plt\nimport sympy as sp",
      "metadata": {
        "trusted": true
      },
      "execution_count": 90,
      "outputs": []
    },
    {
      "cell_type": "code",
      "source": "t,s =sp.Symbol('t', positive=True, real=True), sp.Symbol(\"s\")\nA = sp.Symbol(\"A\", real=True)\nk = sp.Symbol(\"k\", real=True)",
      "metadata": {
        "trusted": true
      },
      "execution_count": 93,
      "outputs": []
    },
    {
      "cell_type": "markdown",
      "source": "# Ejercicio 1\n\nSuponga que la transformada de Laplace de la solución de una EDO está dada por\n\n$ \\mathcal{L}\\left\\lbrace x (t) \\right\\rbrace (s) = \\dfrac{(s-1)(s+1)(s-2)(s+2)(s-3)(s+3)}{s^2(s+1)^2(s^2-1)^2} $\n\nencuentre la solución $x(t)$.",
      "metadata": {}
    },
    {
      "cell_type": "code",
      "source": "f = ((s - 1) * (s + 1) * (s - 2) * (s + 2) * (s - 3) * (s + 3)) / (s**2 * (s + 1)**2 * (s**2 - 1)**2)\ng = sp.inverse_laplace_transform(f,s,t, noconds=True)\nsp.inverse_laplace_transform(f,s,t, noconds=True)",
      "metadata": {
        "trusted": true
      },
      "execution_count": 57,
      "outputs": [
        {
          "execution_count": 57,
          "output_type": "execute_result",
          "data": {
            "text/plain": "(-6*t**2 - 41*t + 3*(-12*t + exp(t) + 24)*exp(t) - 75)*exp(-t)",
            "text/latex": "$\\displaystyle \\left(- 6 t^{2} - 41 t + 3 \\left(- 12 t + e^{t} + 24\\right) e^{t} - 75\\right) e^{- t}$"
          },
          "metadata": {}
        }
      ]
    },
    {
      "cell_type": "code",
      "source": "sp.laplace_transform(g, t, s, noconds=True)",
      "metadata": {
        "trusted": true
      },
      "execution_count": 58,
      "outputs": [
        {
          "execution_count": 58,
          "output_type": "execute_result",
          "data": {
            "text/plain": "(s**4 - 13*s**2 + 36)/(s**2*(s**4 + 2*s**3 - 2*s - 1))",
            "text/latex": "$\\displaystyle \\frac{s^{4} - 13 s^{2} + 36}{s^{2} \\left(s^{4} + 2 s^{3} - 2 s - 1\\right)}$"
          },
          "metadata": {}
        }
      ]
    },
    {
      "cell_type": "markdown",
      "source": "# Ejercicio 2\n\nLa función definida formalmente como\n\n$ \\delta(t-a) = \\left\\lbrace\n\\begin{matrix}\n0 & \\textrm{si} & t\\neq a \\\\\n& &\\\\\n\\infty &  \\textrm{si} & t = a \n\\end{matrix}\n\\right.$\n\nse denomina delta de Dirac o impulso unitario.\n\nPara utilizar dicha función utilizamos el comando sp.DiracDelta.\n\nCalcular la transformada de Laplace de $\\delta(t)$ y $\\delta(t-A)$, para $A \\in \\mathbb{R}$",
      "metadata": {}
    },
    {
      "cell_type": "code",
      "source": "g = sp.DiracDelta(t - A)\nsp.laplace_transform(f, t, s, noconds=True)",
      "metadata": {
        "trusted": true
      },
      "execution_count": 65,
      "outputs": [
        {
          "execution_count": 65,
          "output_type": "execute_result",
          "data": {
            "text/plain": "A*(1 - Heaviside(A*exp_polar(I*pi)))*exp(-A*s)",
            "text/latex": "$\\displaystyle A \\left(1 - \\theta\\left(A e^{i \\pi}\\right)\\right) e^{- A s}$"
          },
          "metadata": {}
        }
      ]
    },
    {
      "cell_type": "code",
      "source": "f = sp.DiracDelta(t)\nsp.laplace_transform(f, t, s, noconds=True)",
      "metadata": {
        "trusted": true
      },
      "execution_count": 55,
      "outputs": [
        {
          "execution_count": 55,
          "output_type": "execute_result",
          "data": {
            "text/plain": "0",
            "text/latex": "$\\displaystyle 0$"
          },
          "metadata": {}
        }
      ]
    },
    {
      "cell_type": "markdown",
      "source": "# Ejercicio 3\n\ncalcule\n$ \\mathcal{L} \\left\\lbrace f(t)  \\delta(t-A) \\right\\rbrace (s)  $\n\npara \n* $f(t)=t$\n* $f(t)=t^2$\n* $f(t)=t^3$\n* $ f(t) = \\sin (kt) ; k\\in \\mathbb{R}$\n* $ f(t) = \\cos (kt) ; k\\in \\mathbb{R}$\n\nA partir de sus resultados, establezca una una fórmula general para\n$ \\mathcal{L} \\left\\lbrace f(t)  \\delta(t-A) \\right\\rbrace (s)$\ncon $f$ arbitrario.",
      "metadata": {}
    },
    {
      "cell_type": "code",
      "source": "f = t * g\nsp.laplace_transform(f, t, s, noconds=True)",
      "metadata": {
        "trusted": true
      },
      "execution_count": 66,
      "outputs": [
        {
          "execution_count": 66,
          "output_type": "execute_result",
          "data": {
            "text/plain": "A*(1 - Heaviside(A*exp_polar(I*pi)))*exp(-A*s)",
            "text/latex": "$\\displaystyle A \\left(1 - \\theta\\left(A e^{i \\pi}\\right)\\right) e^{- A s}$"
          },
          "metadata": {}
        }
      ]
    },
    {
      "cell_type": "code",
      "source": "f = t**2 * g\nsp.laplace_transform(f, t, s, noconds=True)",
      "metadata": {
        "trusted": true
      },
      "execution_count": 67,
      "outputs": [
        {
          "execution_count": 67,
          "output_type": "execute_result",
          "data": {
            "text/plain": "A**2*(1 - Heaviside(A*exp_polar(I*pi)))*exp(-A*s)",
            "text/latex": "$\\displaystyle A^{2} \\cdot \\left(1 - \\theta\\left(A e^{i \\pi}\\right)\\right) e^{- A s}$"
          },
          "metadata": {}
        }
      ]
    },
    {
      "cell_type": "code",
      "source": "f = t**3 * g\nsp.laplace_transform(f, t, s, noconds=True)",
      "metadata": {
        "trusted": true
      },
      "execution_count": 68,
      "outputs": [
        {
          "execution_count": 68,
          "output_type": "execute_result",
          "data": {
            "text/plain": "A**3*(1 - Heaviside(A*exp_polar(I*pi)))*exp(-A*s)",
            "text/latex": "$\\displaystyle A^{3} \\cdot \\left(1 - \\theta\\left(A e^{i \\pi}\\right)\\right) e^{- A s}$"
          },
          "metadata": {}
        }
      ]
    },
    {
      "cell_type": "code",
      "source": "f = sp.sin(k*t) * g\nsp.laplace_transform(f, t, s, noconds=True)",
      "metadata": {
        "trusted": true
      },
      "execution_count": 73,
      "outputs": [
        {
          "execution_count": 73,
          "output_type": "execute_result",
          "data": {
            "text/plain": "(1 - Heaviside(A*exp_polar(I*pi)))*exp(-A*s)*sin(A*k)",
            "text/latex": "$\\displaystyle \\left(1 - \\theta\\left(A e^{i \\pi}\\right)\\right) e^{- A s} \\sin{\\left(A k \\right)}$"
          },
          "metadata": {}
        }
      ]
    },
    {
      "cell_type": "code",
      "source": "f = sp.cos(k*t) * g\nsp.laplace_transform(f, t, s, noconds=True)",
      "metadata": {
        "trusted": true
      },
      "execution_count": 74,
      "outputs": [
        {
          "execution_count": 74,
          "output_type": "execute_result",
          "data": {
            "text/plain": "(1 - Heaviside(A*exp_polar(I*pi)))*exp(-A*s)*cos(A*k)",
            "text/latex": "$\\displaystyle \\left(1 - \\theta\\left(A e^{i \\pi}\\right)\\right) e^{- A s} \\cos{\\left(A k \\right)}$"
          },
          "metadata": {}
        }
      ]
    },
    {
      "cell_type": "markdown",
      "source": "## Ejercicio 4\n\nSuponga que tras aplicar transformada de Laplace a un PVI resulta lo siguiente:\n\n$  \\mathcal{L} \\left\\lbrace y(t) \\right\\rbrace (s) =   4 - 2 e^{-3s} \\sin(3) $\n\nCalcule (sin usar python) $y(t)$. ",
      "metadata": {}
    },
    {
      "cell_type": "markdown",
      "source": "## Ejercicio 5\n\nVerifique que su conjetura del ejercicio anterior es correcta calculando \n$\\mathcal{L}^{-1}\\left\\lbrace  4 - 2 e^{-3s} \\sin(3) \\right\\rbrace (t)$\nusando Python.",
      "metadata": {}
    },
    {
      "cell_type": "code",
      "source": "f = 4 - 2 * sp.exp(-3 * s) * sp.sin(3)\nsp.inverse_laplace_transform(f,s,t,noconds=True)\nsp.laplace_transform(-2 * sp.sin(3) * sp.DiracDelta(t - 3), t, s, noconds=True)",
      "metadata": {
        "trusted": true
      },
      "execution_count": 84,
      "outputs": [
        {
          "execution_count": 84,
          "output_type": "execute_result",
          "data": {
            "text/plain": "-2*exp(-3*s)*sin(3)",
            "text/latex": "$\\displaystyle - 2 e^{- 3 s} \\sin{\\left(3 \\right)}$"
          },
          "metadata": {}
        }
      ]
    },
    {
      "cell_type": "markdown",
      "source": "## Ejercicio 6\n\nResolver el PVI\n$$ y''' = f(t),  $$\ncon condiciones iniciales $y''(0)=y'(0)=1, y(0)=0$, donde $f$ está definida por\n\n$$\nf(t) = \\left\\lbrace\n\\begin{matrix}\n2 & si & t<3 \\\\\nt & si & 3 \\leq t \\leq 4 \\\\\nte^{A(t-4)} & si & t>4\n\\end{matrix}\n\\right.\n$$",
      "metadata": {}
    },
    {
      "cell_type": "code",
      "source": "f = 2 - 2 * sp.Heaviside(t - 3) + t * sp.Heaviside(t - 3) - t * sp.Heaviside(t - 4) + t * sp.exp(2 * (t - 4)) * sp.Heaviside(t - 4) # se camabia el A por valor\nsp.plot(f, xlim=(0,10), ylim=(0,10))",
      "metadata": {
        "trusted": true
      },
      "execution_count": 103,
      "outputs": [
        {
          "output_type": "display_data",
          "data": {
            "text/plain": "<pyolite.display.Image at 0x5c45398>",
            "image/png": "[encoded data removed]"
          },
          "metadata": {}
        },
        {
          "execution_count": 103,
          "output_type": "execute_result",
          "data": {
            "text/plain": "<sympy.plotting.plot.Plot at 0x5aa1a50>"
          },
          "metadata": {}
        }
      ]
    },
    {
      "cell_type": "code",
      "source": "transformada = sp.laplace_transform(f, t, s, noconds=True)\ntransformada",
      "metadata": {
        "trusted": true
      },
      "execution_count": 105,
      "outputs": [
        {
          "execution_count": 105,
          "output_type": "execute_result",
          "data": {
            "text/plain": "4*s*exp(-4*s)/(s - 2)**2 - 7*exp(-4*s)/(s - 2)**2 + 2/s + exp(-3*s)/s - 4*exp(-4*s)/s + exp(-3*s)/s**2 - exp(-4*s)/s**2",
            "text/latex": "$\\displaystyle \\frac{4 s e^{- 4 s}}{\\left(s - 2\\right)^{2}} - \\frac{7 e^{- 4 s}}{\\left(s - 2\\right)^{2}} + \\frac{2}{s} + \\frac{e^{- 3 s}}{s} - \\frac{4 e^{- 4 s}}{s} + \\frac{e^{- 3 s}}{s^{2}} - \\frac{e^{- 4 s}}{s^{2}}$"
          },
          "metadata": {}
        }
      ]
    },
    {
      "cell_type": "code",
      "source": "",
      "metadata": {},
      "execution_count": null,
      "outputs": []
    },
    {
      "cell_type": "markdown",
      "source": "## Ejercicio 7\n\nPara calcular derivadas, podemos utilizar el comando sp.diff( funcion , variable respecto a la que se deriva )\n\nPor ejemplo, si $f(t)= At^3$, entonces su derivada se puede calcular vía",
      "metadata": {}
    },
    {
      "cell_type": "code",
      "source": "A=sp.Symbol('A')\nsp.diff(A*t**2, t)",
      "metadata": {},
      "execution_count": 5,
      "outputs": [
        {
          "execution_count": 5,
          "output_type": "execute_result",
          "data": {
            "text/latex": [
              "$\\displaystyle 2 A t$"
            ],
            "text/plain": [
              "2*A*t"
            ]
          },
          "metadata": {}
        }
      ]
    },
    {
      "cell_type": "markdown",
      "source": "Más aun, se puede agregar una tercera entrada para indicar el orden de derivación, por ejemplo, si se desea calcular la segunda y tercera derivada de la misma función, utilizamos",
      "metadata": {}
    },
    {
      "cell_type": "code",
      "source": "sp.diff(A*t**2, t, 2)",
      "metadata": {},
      "execution_count": 6,
      "outputs": [
        {
          "execution_count": 6,
          "output_type": "execute_result",
          "data": {
            "text/latex": [
              "$\\displaystyle 2 A$"
            ],
            "text/plain": [
              "2*A"
            ]
          },
          "metadata": {}
        }
      ]
    },
    {
      "cell_type": "code",
      "source": "sp.diff(A*t**2, t, 3)",
      "metadata": {},
      "execution_count": 7,
      "outputs": [
        {
          "execution_count": 7,
          "output_type": "execute_result",
          "data": {
            "text/latex": [
              "$\\displaystyle 0$"
            ],
            "text/plain": [
              "0"
            ]
          },
          "metadata": {}
        }
      ]
    },
    {
      "cell_type": "markdown",
      "source": "Utilizando el teorema que establece (bajo ciertas condiciones) que \n\n$$ \\mathcal{L} \\left\\lbrace t^n f(t) \\right\\rbrace (s) = (-1)^{n} \\frac{d^n}{dt^n} \\mathcal{L} \\left\\lbrace f(t) \\right\\rbrace (s)  $$\n\nCalcule la transformada de Laplace de:\n\n* $g(t)= t^{21} \\sin(4t)$\n* $g(t)=t^{7} e^{-2t}\\cos t$\n* $g(t)=t^{4} e^{-4t}\\cos t \\sin (2t)$\n",
      "metadata": {}
    },
    {
      "cell_type": "code",
      "source": "",
      "metadata": {},
      "execution_count": null,
      "outputs": []
    }
  ]
}