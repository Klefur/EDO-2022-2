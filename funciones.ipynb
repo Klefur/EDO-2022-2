{
 "cells": [
  {
   "cell_type": "code",
   "execution_count": 14,
   "metadata": {},
   "outputs": [],
   "source": [
    "import numpy as np\n",
    "import matplotlib.pyplot as plt\n",
    "from math import pi\n",
    "\n",
    "def euler(f, x0, x1, y0, h):\n",
    "    n = int((x1 - x0) / h)\n",
    "    x = np.linspace(x0, x1, n)\n",
    "    y = np.zeros(n)\n",
    "    y[0] = y0\n",
    "\n",
    "    for i in range(0, n - 1):\n",
    "        y[i + 1] = y[i] + h * f(x[i], y[i])\n",
    "    \n",
    "    return (x, y)\n",
    "\n",
    "def rk2(f, x0, x1, y0, h):\n",
    "    n = int((x1 - x0) / h)\n",
    "    print(n)\n",
    "    x = np.linspace(x0, x1, n + 1)\n",
    "    y = np.zeros(n + 1)\n",
    "    y[0] = y0\n",
    "\n",
    "    for i in range(0, n - 1):\n",
    "        y[i + 1] = y[i] + (h / 2) * (f(x[i], y[i]) + f(x[i + 1], (y[i] + h * f(x[i], y[i]))))\n",
    "    \n",
    "    return (x, y)\n",
    "\n",
    "f = lambda x, y: 0.2 * x * y"
   ]
  },
  {
   "cell_type": "code",
   "execution_count": 18,
   "metadata": {},
   "outputs": [
    {
     "name": "stdout",
     "output_type": "stream",
     "text": [
      "4\n",
      "[0. 1. 2. 3. 4.] [1.        1.1       1.474     2.38788   4.6324872]\n"
     ]
    },
    {
     "data": {
      "text/plain": [
       "[<matplotlib.lines.Line2D at 0x19cbf38eb00>]"
      ]
     },
     "execution_count": 18,
     "metadata": {},
     "output_type": "execute_result"
    },
    {
     "data": {
      "image/png": "[encoded data removed]",
      "text/plain": [
       "<Figure size 432x288 with 1 Axes>"
      ]
     },
     "metadata": {},
     "output_type": "display_data"
    }
   ],
   "source": [
    "(x, y) = rk2(f, 0, 4, 1, 1)\n",
    "(x1, y1) = euler(f, 0, 4, 1, 1)\n",
    "print(x, y)\n",
    "plt.plot(x, y)\n",
    "plt.plot(x1, y1)"
   ]
  },
  {
   "cell_type": "code",
   "execution_count": null,
   "metadata": {},
   "outputs": [],
   "source": []
  }
 ],
 "metadata": {
  "kernelspec": {
   "display_name": "Python 3",
   "language": "python",
   "name": "python3"
  },
  "language_info": {
   "codemirror_mode": {
    "name": "ipython",
    "version": 3
   },
   "file_extension": ".py",
   "mimetype": "text/x-python",
   "name": "python",
   "nbconvert_exporter": "python",
   "pygments_lexer": "ipython3",
   "version": "3.6.5"
  }
 },
 "nbformat": 4,
 "nbformat_minor": 2
}
