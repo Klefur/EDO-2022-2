{
 "cells": [
  {
   "cell_type": "code",
   "execution_count": 21,
   "metadata": {},
   "outputs": [],
   "source": [
    "import numpy as np\n",
    "import matplotlib.pyplot as plt\n",
    "from math import pi\n",
    "\n",
    "x, y = np.meshgrid(np.linspace(0, 5, 10), np.linspace(-5, 5, 20))\n",
    "\n",
    "def gen_campo(v):\n",
    "\n",
    "    u = 1\n",
    "    n = np.sqrt(u ** 2 + v ** 2)\n",
    "    u, v = u/n, v/n\n",
    "\n",
    "    plt.quiver(x, y, u, v)\n",
    "    plt.grid()\n",
    "\n",
    "def euler(f, x0, x1, y0, h):\n",
    "    n = int((x1 - x0) / h)\n",
    "    x = np.linspace(x0, x1, n + 1)\n",
    "    y = np.zeros(n + 1)\n",
    "    y[0] = y0\n",
    "\n",
    "    for i in range(0, n):\n",
    "        y[i + 1] = y[i] + h * f(x[i], y[i])\n",
    "    \n",
    "    return (x, y)\n",
    "\n",
    "def rk2(f, x0, x1, y0, h):\n",
    "    n = int((x1 - x0) / h)\n",
    "    print(n)\n",
    "    x = np.linspace(x0, x1, n + 1)\n",
    "    y = np.zeros(n + 1)\n",
    "    y[0] = y0\n",
    "\n",
    "    for i in range(0, n):\n",
    "        y[i + 1] = y[i] + (h / 2) * (f(x[i], y[i]) + f(x[i + 1], (y[i] + h * f(x[i], y[i]))))\n",
    "    \n",
    "    return (x, y)"
   ]
  }
 ],
 "metadata": {
  "kernelspec": {
   "display_name": "Python 3",
   "language": "python",
   "name": "python3"
  },
  "language_info": {
   "codemirror_mode": {
    "name": "ipython",
    "version": 3
   },
   "file_extension": ".py",
   "mimetype": "text/x-python",
   "name": "python",
   "nbconvert_exporter": "python",
   "pygments_lexer": "ipython3",
   "version": "3.6.5"
  }
 },
 "nbformat": 4,
 "nbformat_minor": 2
}
