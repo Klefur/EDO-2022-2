{
 "cells": [
  {
   "cell_type": "code",
   "execution_count": 32,
   "metadata": {},
   "outputs": [
    {
     "data": {
      "text/plain": [
       "3.0"
      ]
     },
     "execution_count": 32,
     "metadata": {},
     "output_type": "execute_result"
    }
   ],
   "source": [
    "import numpy as np\n",
    "import matplotlib.pyplot as plt\n",
    "from math import pi\n",
    "\n",
    "x, y = np.meshgrid(np.linspace(0, 5, 10), np.linspace(-5, 5, 20))\n",
    "\n",
    "def gen_campo(v):\n",
    "\n",
    "    u = 1\n",
    "    n = np.sqrt(u ** 2 + v ** 2)\n",
    "    u, v = u/n, v/n\n",
    "\n",
    "    plt.quiver(x, y, u, v)\n",
    "    plt.grid()\n",
    "\n",
    "def euler(f, x0, x1, y0, h):\n",
    "    n = int((x1 - x0) / h)\n",
    "    x = np.linspace(x0, x1, n + 1)\n",
    "    y = np.zeros(n + 1)\n",
    "    y[0] = y0\n",
    "\n",
    "    for i in range(0, n):\n",
    "        y[i + 1] = y[i] + h * f(x[i], y[i])\n",
    "    \n",
    "    return (x, y)\n",
    "\n",
    "def rk2(f, x0, x1, y0, h):\n",
    "    n = int((x1 - x0) / h)\n",
    "    print(n)\n",
    "    x = np.linspace(x0, x1, n + 1)\n",
    "    y = np.zeros(n + 1)\n",
    "    y[0] = y0\n",
    "\n",
    "    for i in range(0, n):\n",
    "        y[i + 1] = y[i] + (h / 2) * (f(x[i], y[i]) + f(x[i + 1], (y[i] + h * f(x[i], y[i]))))\n",
    "    \n",
    "    return (x, y)\n",
    "\n",
    "def rk4(f, x0, x1, y0, h):\n",
    "    n = int((x1 - x0) / h)\n",
    "    x = np.linspace(x0, x1, n + 1)\n",
    "    y = np.zeros(n + 1)\n",
    "    y[0] = y0\n",
    "\n",
    "    K1 = lambda x, y: f(x, y)\n",
    "    K2_3 = lambda x, y, h, k: f(x + h / 2,y + k * h / 2)\n",
    "    K4 = lambda x, y, h, k: f(x + h,y + k * h)\n",
    "\n",
    "    for i in range(0, n):\n",
    "        cons1 = K1(x[i], y[i])\n",
    "        cons2 = K2_3(x[i], y[i], h, cons1)\n",
    "        cons3 = K2_3(x[i], y[i], h, cons2)\n",
    "        cons4 = K4(x[i], y[i], h, cons3)\n",
    "        y[i + 1] = y[i] + (h / 6) * (cons1 + 2 * cons2 + 2 * cons3 + cons4)\n",
    "    \n",
    "    return (x, y)\n",
    "\n",
    "def biseccion(x0, x1, f, n):\n",
    "    x = [x0, x1]\n",
    "    y = [f(x0), f(x1)]\n",
    "\n",
    "    xm = True if y[0] * y[1] < 0 else False\n",
    "    if not xm:\n",
    "        return \"no existe\"\n",
    "    \n",
    "    for i in range(n):\n",
    "        xm = (x[0] + x[1]) / 2\n",
    "        y = [f(x[0]), f(xm)]\n",
    "        x = [x[0], xm] if y[0] * y[1] < 0 else [xm, x[1]] if y[0] * y[1] > 0 else xm\n",
    "        if x == xm:\n",
    "            return x\n",
    "    return xm\n",
    "\n",
    "def newton_raphson(x0, n, f, df):\n",
    "    xi = x0\n",
    "    for i in range(n):\n",
    "        xi = xi - f(xi) / df(xi)\n",
    "    return xi"
   ]
  }
 ],
 "metadata": {
  "kernelspec": {
   "display_name": "Python 3.10.5 64-bit",
   "language": "python",
   "name": "python3"
  },
  "language_info": {
   "codemirror_mode": {
    "name": "ipython",
    "version": 3
   },
   "file_extension": ".py",
   "mimetype": "text/x-python",
   "name": "python",
   "nbconvert_exporter": "python",
   "pygments_lexer": "ipython3",
   "version": "3.10.5"
  },
  "vscode": {
   "interpreter": {
    "hash": "162805d861223990fbee0972ed12f9be628b31f8b6842b220d207744051d74d5"
   }
  }
 },
 "nbformat": 4,
 "nbformat_minor": 2
}
